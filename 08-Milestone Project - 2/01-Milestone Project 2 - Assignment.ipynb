{
 "cells": [
  {
   "cell_type": "markdown",
   "metadata": {},
   "source": [
    "___\n",
    "\n",
    "<a href='https://www.udemy.com/user/joseportilla/'><img src='../Pierian_Data_Logo.png'/></a>\n",
    "___\n",
    "<center><em>Content Copyright by Pierian Data</em></center>"
   ]
  },
  {
   "cell_type": "markdown",
   "metadata": {},
   "source": [
    "# Milestone Project 2 - Blackjack Game\n",
    "In this milestone project you will be creating a Complete BlackJack Card Game in Python.\n",
    "\n",
    "Here are the requirements:\n",
    "\n",
    "* You need to create a simple text-based [BlackJack](https://en.wikipedia.org/wiki/Blackjack) game\n",
    "* The game needs to have one player versus an automated dealer.\n",
    "* The player can stand or hit.\n",
    "* The player must be able to pick their betting amount.\n",
    "* You need to keep track of the player's total money.\n",
    "* You need to alert the player of wins, losses, or busts, etc...\n",
    "\n",
    "And most importantly:\n",
    "\n",
    "* **You must use OOP and classes in some portion of your game. You can not just use functions in your game. Use classes to help you define the Deck and the Player's hand. There are many right ways to do this, so explore it well!**\n",
    "\n",
    "\n",
    "Feel free to expand this game. Try including multiple players. Try adding in Double-Down and card splits! Remember to you are free to use any resources you want and as always:\n",
    "\n",
    "# HAVE FUN!"
   ]
  },
  {
   "cell_type": "markdown",
   "metadata": {},
   "source": [
    "### Global Variables"
   ]
  },
  {
   "cell_type": "code",
   "execution_count": null,
   "metadata": {},
   "outputs": [],
   "source": [
    "import random"
   ]
  },
  {
   "cell_type": "code",
   "execution_count": null,
   "metadata": {},
   "outputs": [],
   "source": [
    "suits = ('Hearts', 'Diamonds', 'Spades', 'Clubs')\n",
    "ranks = ('Two', 'Three', 'Four', 'Five', 'Six', 'Seven', 'Eight', 'Nine', 'Ten', 'Jack', 'Queen', 'King', 'Ace')\n",
    "values = {'Two':2, 'Three':3, 'Four':4, 'Five':5, 'Six':6, 'Seven':7, 'Eight':8, 'Nine':9, 'Ten':10, 'Jack':10,'Queen':10, 'King':10, 'Ace':11}\n",
    "\n",
    "playing = True\n",
    "dealer_playing =True"
   ]
  },
  {
   "cell_type": "markdown",
   "metadata": {},
   "source": [
    "### Card Class"
   ]
  },
  {
   "cell_type": "code",
   "execution_count": null,
   "metadata": {},
   "outputs": [],
   "source": [
    "class Card: \n",
    "    def __init__(self,suit,rank):\n",
    "        self.suit = suit\n",
    "        self.rank = rank\n",
    "        self.value = values[rank]\n",
    "        \n",
    "    def __str__(self):\n",
    "        return self.rank + \" of \" + self.suit"
   ]
  },
  {
   "cell_type": "markdown",
   "metadata": {},
   "source": [
    "### Deck Class"
   ]
  },
  {
   "cell_type": "code",
   "execution_count": null,
   "metadata": {},
   "outputs": [],
   "source": [
    "class Deck:\n",
    "    def __init__(self):\n",
    "        self.deck = []\n",
    "        # Creats all cards and stores them in a list as elements of the Card Class. \n",
    "        for suit in suits:\n",
    "            for rank in ranks:\n",
    "                self.deck.append(Card(suit,rank))\n",
    "                \n",
    "    def shuffle(self): \n",
    "        random.shuffle(self.deck)\n",
    "        \n",
    "    def deal(self):\n",
    "        return self.deck.pop()"
   ]
  },
  {
   "cell_type": "markdown",
   "metadata": {},
   "source": [
    "### Hand Class"
   ]
  },
  {
   "cell_type": "code",
   "execution_count": null,
   "metadata": {},
   "outputs": [],
   "source": [
    "class Hand:\n",
    "    def __init__(self):\n",
    "        self.cards = []\n",
    "        #self.aces = 0     \n",
    "             \n",
    "    def add_card(self,card):\n",
    "        # Recieves and stores card(s) in hand\n",
    "        if type(card) is type([]):\n",
    "            self.cards.extend(card)\n",
    "        else: \n",
    "            self.cards.append(card)\n",
    "                    \n",
    "    def calc_value(self):\n",
    "        # Loop to calculate value of hands. \n",
    "        # Should loop through the card elements and obtain their value and sum up the hand value. \n",
    "        # Here we need to check for aces and adjust according to the Special rule: Ace can be 11 or 1, whichever is preferable to the player. \n",
    "        # Basically, if ace is causing player to bust - then the value will be reduced to 1. \n",
    "        self.value = 0\n",
    "        for card in self.cards:\n",
    "            self.value += values[card.rank]\n",
    "                     \n",
    "            if self.value > 21 and self.check_for_aces() != 0:\n",
    "                self.value -= self.adjust_for_ace()\n",
    "            \n",
    "        return self.value\n",
    "        \n",
    "    def check_for_aces(self):\n",
    "        self.aces = 0 \n",
    "        for card in self.cards:\n",
    "            if card.rank == 'Ace':\n",
    "               self.aces += 1 \n",
    "        \n",
    "        return self.aces\n",
    "        \n",
    "    def adjust_for_ace(self):\n",
    "        return 10*self.aces"
   ]
  },
  {
   "cell_type": "markdown",
   "metadata": {},
   "source": [
    "### Chip Class"
   ]
  },
  {
   "cell_type": "code",
   "execution_count": null,
   "metadata": {},
   "outputs": [],
   "source": [
    "class Chip:\n",
    "    '''\n",
    "    \n",
    "    Class to track player bets and saldos. Upon initiation, requires player input on how much they put into the game initially. \n",
    "    \n",
    "    '''\n",
    "    def __init__(self,name,total=0):\n",
    "        self.total = total\n",
    "        self.name = name\n",
    "        self.bet = 0\n",
    "    \n",
    "    def __str__(self):\n",
    "        return f\"{self.name} has {self.total} chips\"\n",
    "        \n",
    "    def win_bet(self,bet):\n",
    "        self.total += bet\n",
    "    \n",
    "    def loses_bet(self,bet):\n",
    "        self.total -= bet"
   ]
  },
  {
   "cell_type": "markdown",
   "metadata": {},
   "source": [
    "### Game Logic"
   ]
  },
  {
   "cell_type": "markdown",
   "metadata": {},
   "source": [
    "#### Taking Bets"
   ]
  },
  {
   "cell_type": "code",
   "execution_count": null,
   "metadata": {},
   "outputs": [],
   "source": [
    "def take_bet():\n",
    "    '''\n",
    "    When function is called, then player will get a chance to wager a bet of his choice. Check that bet is correctly input as an integer. \n",
    "    '''\n",
    "    player_bet = 0\n",
    "    while True:\n",
    "        try:\n",
    "            player_bet += int(input(\"Please place your bet: \"))\n",
    "            break\n",
    "        except:\n",
    "            print(\"Please place your bet. Bet must be a number:\")\n",
    "            continue\n",
    "        finally:\n",
    "            print(f\"Bet of {player_bet} chips has been placed.\")\n",
    "    return player_bet"
   ]
  },
  {
   "cell_type": "markdown",
   "metadata": {},
   "source": [
    "#### Hit"
   ]
  },
  {
   "cell_type": "code",
   "execution_count": null,
   "metadata": {},
   "outputs": [],
   "source": [
    "def hit(deck,hand):\n",
    "    '''\n",
    "    During game, player will get a choice whether to hit or stand. When they hit, then the deck will deal a card to the player. Function takes takes a deck and hand instance as input. \n",
    "    '''\n",
    "    hand.add_card(deck.deal())"
   ]
  },
  {
   "cell_type": "markdown",
   "metadata": {},
   "source": [
    "#### Hit or Stand"
   ]
  },
  {
   "cell_type": "code",
   "execution_count": null,
   "metadata": {},
   "outputs": [],
   "source": [
    "def hit_or_stand(deck,hand):\n",
    "    '''\n",
    "    function to promt player or dealer whether they want to hit or stay. Dealer will hit if their hand value is lower than 17.\n",
    "    '''\n",
    "    global playing\n",
    "    while True:\n",
    "        try: \n",
    "            ask = int(input(\"Hit 1 to hit or 2 to stay\"))\n",
    "            break\n",
    "        except: \n",
    "            print(\"Press 1 to Hit or 2 to stay: \")\n",
    "            continue\n",
    "        \n",
    "    if ask == 1: \n",
    "        print(\"Player chose to hit.\")\n",
    "        hit(deck,hand)\n",
    "    else: \n",
    "        print(\"Player chose to stay.\")\n",
    "        playing = False\n",
    "        \n",
    "    "
   ]
  },
  {
   "cell_type": "code",
   "execution_count": null,
   "metadata": {},
   "outputs": [],
   "source": [
    "def dealer_hit(deck,hand):\n",
    "    global dealer_playing\n",
    "    if hand.calc_value() < 17:\n",
    "        hit(deck,hand)\n",
    "        print(\"Dealer Hits.\")\n",
    "    else: \n",
    "        print(\"Dealer Stays.\")\n",
    "        dealer_playing = False"
   ]
  },
  {
   "cell_type": "markdown",
   "metadata": {},
   "source": [
    "#### Displaying Cards"
   ]
  },
  {
   "cell_type": "code",
   "execution_count": null,
   "metadata": {},
   "outputs": [],
   "source": [
    "def show_some(dealer,player):\n",
    "    '''\n",
    "    Takes in hand instances as input. \n",
    "    Function displays all player cards and only 1 of the dealer card. Function also shows each parties hand value. \n",
    "    '''\n",
    "    print(f\"Dealer Card 1: {dealer.cards[0]} : {dealer.cards[0].value}\")\n",
    "    print(f\"\\n{name}'s Cards:\")\n",
    "    for card in player.cards:\n",
    "        print(f\"{card} : {card.value}\")\n",
    "    print(f\"Total Value: {player.calc_value()}\")"
   ]
  },
  {
   "cell_type": "code",
   "execution_count": null,
   "metadata": {},
   "outputs": [],
   "source": [
    "def show_all(dealer,player): \n",
    "    '''\n",
    "    Takes in hand instances as input. \n",
    "    Function displays all player and dealer cards. Function also shows each parties hand value. \n",
    "    '''\n",
    "    print(\"Dealers Cards: \")\n",
    "    for card in dealer.cards:\n",
    "        print(f\"{card} : {card.value}\")\n",
    "    print(f\"Total Value: {dealer.calc_value()}\")\n",
    "    \n",
    "    print(f\"\\n{name}'s Cards:\")\n",
    "    for card in player.cards:\n",
    "        print(f\"{card} : {card.value}\")\n",
    "    print(f\"Total Value: {player.calc_value()}\")"
   ]
  },
  {
   "cell_type": "markdown",
   "metadata": {},
   "source": [
    "#### Game Scenarios"
   ]
  },
  {
   "cell_type": "code",
   "execution_count": null,
   "metadata": {},
   "outputs": [],
   "source": [
    "class Scenarios:\n",
    "    ''' \n",
    "    Class to check who won and to move chips around as needed. \n",
    "    Upon creation, it takes the dealer and players hand along with the stake. \n",
    "    If anything else than a push happens, play stops. \n",
    "    '''\n",
    "    def __init__(self, dealer,player,bet):\n",
    "        self.dealer = dealer\n",
    "        self.player = player\n",
    "        self.dealer_value = self.dealer.calc_value()\n",
    "        self.player_value = self.player.calc_value()\n",
    "        self.bet = bet\n",
    "        self.check()\n",
    "    \n",
    "    def check(self):\n",
    "        \n",
    "        \n",
    "        if self.dealer_value > 21:\n",
    "            self.dealer_busts()\n",
    "        elif self.player_value > 21:\n",
    "            self.player_busts()\n",
    "        elif self.dealer_value > self.player_value:\n",
    "            self.dealer_wins()\n",
    "        elif self.player_value > self.dealer_value: \n",
    "            self.player_wins()\n",
    "        else: \n",
    "            self.push()\n",
    "        \n",
    "    def player_busts(self):\n",
    "        player_bank.loses_bet(self.bet)\n",
    "        print(f\"{name} bust. {name} has {player_bank.total} chips left\")\n",
    "        playing = False\n",
    "\n",
    "    def player_wins(self):\n",
    "        player_bank.win_bet(self.bet)\n",
    "        print(f\"{name} wins this round! {name} has {player_bank.total} chips left\")\n",
    "        playing = False\n",
    "\n",
    "    def dealer_busts(self):\n",
    "        player_bank.win_bet(self.bet)\n",
    "        print(f\"{name} wins this round! {name} has {player_bank.total} chips left\")\n",
    "        playing = False\n",
    "        \n",
    "    def dealer_wins(self):\n",
    "        player_bank.loses_bet(self.bet)\n",
    "        print(f\"{name} loses this round. {name} has {player_bank.total} chips left\")\n",
    "        playing = False\n",
    "        \n",
    "    def push(self):\n",
    "        print(\"Its a Push!\")\n",
    "        playing = True"
   ]
  },
  {
   "cell_type": "markdown",
   "metadata": {},
   "source": [
    "#### Gameplay"
   ]
  },
  {
   "cell_type": "code",
   "execution_count": 544,
   "metadata": {},
   "outputs": [
    {
     "name": "stdout",
     "output_type": "stream",
     "text": [
      "Player has been added.\n",
      "Hannes has 1000 chips\n",
      "This is Blackjack.\n",
      "Bet of 500 chips has been placed.\n",
      "Dealer Card 1: Two of Spades : 2\n",
      "\n",
      "Hannes's Cards:\n",
      "Three of Diamonds : 3\n",
      "Nine of Diamonds : 9\n",
      "Total Value: 12\n",
      "Its a Push!\n",
      "Dealers Cards: \n",
      "Two of Spades : 2\n",
      "Ten of Spades : 10\n",
      "Total Value: 12\n",
      "\n",
      "Hannes's Cards:\n",
      "Three of Diamonds : 3\n",
      "Nine of Diamonds : 9\n",
      "Total Value: 12\n"
     ]
    }
   ],
   "source": [
    "name = input(\"Player name:\")\n",
    "\n",
    "while True:\n",
    "    try:\n",
    "        saldo = int(input(\"Starting Saldo: \"))\n",
    "        break\n",
    "    except: \n",
    "        print(\"Please supply a number for the starting saldo: \")\n",
    "        continue\n",
    "\n",
    "player_bank = Chip(name,saldo)\n",
    "    \n",
    "print(f\"Player has been added.\\n{player_bank}\")\n",
    "\n",
    "while True:\n",
    "    # Print an opening statement\n",
    "    print(\"This is Blackjack.\")\n",
    "    \n",
    "    # Setup player and their starting chips\n",
    "    \n",
    "    # Create & shuffle the deck, deal two cards to each player\n",
    "    gamedeck = Deck()\n",
    "    gamedeck.shuffle()\n",
    "    card1 = gamedeck.deal()\n",
    "    card2 = gamedeck.deal()\n",
    "    card3 = gamedeck.deal()\n",
    "    card4 = gamedeck.deal()  \n",
    "    \n",
    "    dealercards = [card1,card3]\n",
    "    playercards = [card2,card4]\n",
    "    \n",
    "    # Create hands\n",
    "    dealerhand = Hand()\n",
    "    dealerhand.add_card(dealercards)\n",
    "    playerhand = Hand()\n",
    "    playerhand.add_card(playercards)\n",
    "    \n",
    "    # Prompt the Player for their bet\n",
    "    bet = take_bet()\n",
    "    player = Chip(name,player_bank)\n",
    "    \n",
    "    # Show cards (but keep one dealer card hidden)\n",
    "    show_some(dealerhand,playerhand)\n",
    "    \n",
    "    while playing:  # recall this variable from our hit_or_stand function, player playing\n",
    "        \n",
    "        # Prompt for Player to Hit or Stand\n",
    "        hit_or_stand(gamedeck,playerhand)\n",
    "        \n",
    "        # Show cards (but keep one dealer card hidden)\n",
    "        show_some(dealerhand,playerhand)\n",
    " \n",
    "        # If player's hand exceeds 21, run player_busts() and break out of loop\n",
    "        if playerhand.calc_value()>21:\n",
    "            break\n",
    "        \n",
    "    # See if dealer wants to hit or not\n",
    "    while dealer_playing:\n",
    "            dealer_hit(gamedeck,dealerhand)\n",
    "            \n",
    "    check = Scenarios(dealerhand,playerhand,bet)\n",
    "    show_all(dealerhand,playerhand)\n",
    "         \n",
    "    # Inform Player of their chips total \n",
    "    \n",
    "    # Ask to play again\n",
    "    play_again= input(\"Press Y if you want to play again, press N if you want to stop: \")\n",
    "    if play_again == 'Y':\n",
    "        continue\n",
    "    else: \n",
    "        break"
   ]
  }
 ],
 "metadata": {
  "kernelspec": {
   "display_name": "venv",
   "language": "python",
   "name": "python3"
  },
  "language_info": {
   "codemirror_mode": {
    "name": "ipython",
    "version": 3
   },
   "file_extension": ".py",
   "mimetype": "text/x-python",
   "name": "python",
   "nbconvert_exporter": "python",
   "pygments_lexer": "ipython3",
   "version": "3.13.0"
  }
 },
 "nbformat": 4,
 "nbformat_minor": 1
}
